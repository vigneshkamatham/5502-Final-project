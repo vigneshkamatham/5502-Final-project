{
  "nbformat": 4,
  "nbformat_minor": 0,
  "metadata": {
    "kernelspec": {
      "display_name": "Python 3",
      "language": "python",
      "name": "python3"
    },
    "language_info": {
      "codemirror_mode": {
        "name": "ipython",
        "version": 3
      },
      "file_extension": ".py",
      "mimetype": "text/x-python",
      "name": "python",
      "nbconvert_exporter": "python",
      "pygments_lexer": "ipython3",
      "version": "3.8.3"
    },
    "colab": {
      "name": "project_titanic_disaster-checkpoint.ipynb",
      "provenance": [],
      "include_colab_link": true
    }
  },
  "cells": [
    {
      "cell_type": "markdown",
      "metadata": {
        "id": "view-in-github",
        "colab_type": "text"
      },
      "source": [
        "<a href=\"https://colab.research.google.com/github/vigneshkamatham/5502-Final-project/blob/main/project_titanic_disaster_checkpoint.ipynb\" target=\"_parent\"><img src=\"https://colab.research.google.com/assets/colab-badge.svg\" alt=\"Open In Colab\"/></a>"
      ]
    },
    {
      "cell_type": "markdown",
      "metadata": {
        "id": "NWsqtpTnpVNV"
      },
      "source": [
        "# **INFO 5502 ASSIGNMENT 08 DEVELOP A DATA ANALYSIS PROJECT**\n",
        "\n",
        "\n",
        "\n",
        "**In this assignment, you pick your own questions and datasets to build\n",
        "a data analysis project following data science workflow. Specifically, you need\n",
        "complete the following tasks:\n",
        "#**1. Develop a question of your choice that can be addressed by identifying,collecting, and analyzing relevant data. You need find relevant data by yourself, and describe the data such as the source, attributes, size, how the data were collected, is the dataset sample data or population data?, etc. The dataset should have at least six distinct variables (i.e. columns) and a sample size (i.e. rows) of 500 or more. (3 points)**\n",
        "\n",
        "\n",
        "I decided to use titanic dataset for analysis. The data set is collected from kaggle.\n",
        "The data set is available at https://www.kaggle.com/prkukunoor/TitanicDataset?select=titanic_data.csv\n",
        "\n",
        "\n",
        "The dataset consists of 12 columns and 895 rows. \n",
        "\n",
        "A century has sailed by since the luxury steamship RMS Titanic met its catastrophic end in the North Atlantic, plunging two miles to the ocean floors after sideswiping an iceberg during its maiden voyage.Rather than the intended Port of New York, a deep-sea grave became the pride of the White Star Line’s final destination in the early hours of April 15, 1912.More than 1,500 people lost their lives in the disaster \n",
        "\n",
        "\n",
        "\n",
        "\n",
        "\n",
        "\n"
      ]
    },
    {
      "cell_type": "markdown",
      "metadata": {
        "id": "cRE4TYHqpVNW"
      },
      "source": [
        "The data dictionary for the project is as follows\n",
        "\n",
        " id     Column         Dtype  \n",
        "---  ------           -----  \n",
        " 0   PassengerId    :   int64  \n",
        " \n",
        " 1   Survived       :   int64  \n",
        " \n",
        " 2   Pclass         :   int64  \n",
        " \n",
        " 3   Name           :   object \n",
        " \n",
        " 4   Sex            :   object \n",
        " \n",
        " 5   Age            :  float64\n",
        " \n",
        " 6   SibSp          :   int64  \n",
        " \n",
        " 7   Parch          :   int64  \n",
        " \n",
        " 8   Ticket         :   object "
      ]
    },
    {
      "cell_type": "markdown",
      "metadata": {
        "id": "nevVgTG_7Ghi"
      },
      "source": [
        " 9   Fare           :  float64\n",
        "\n",
        " 10  Cabin          :   object \n",
        " \n",
        " 11  Embarked       :   object "
      ]
    },
    {
      "cell_type": "markdown",
      "metadata": {
        "id": "DN__dVaAzFxd"
      },
      "source": [
        "**From my analysis we can explore**\n",
        "\n",
        "\n",
        "**1) Which age group people are more likely to be survived**\n",
        "\n",
        "\n",
        "\n",
        "**2) Which class of people (rich or poor) has the most survival rate?**\n",
        "\n",
        "\n",
        "**In my analysis I am able to figure out with the given parameters if a person can survive or not**\n"
      ]
    },
    {
      "cell_type": "code",
      "metadata": {
        "id": "LTeTK_BYpVNW"
      },
      "source": [
        "import numpy as np\n",
        "import pandas as pd\n",
        "import matplotlib.pyplot as plt\n",
        "import seaborn as sns"
      ],
      "execution_count": null,
      "outputs": []
    },
    {
      "cell_type": "markdown",
      "metadata": {
        "id": "uy5yseL9pVNW"
      },
      "source": [
        "# 1. selected data set : titanic_disaster (data is provided in folder)"
      ]
    },
    {
      "cell_type": "code",
      "metadata": {
        "id": "Jr1jq7qmpVNW",
        "outputId": "60d88a7e-ddea-484d-d1a8-9c8536258e00"
      },
      "source": [
        "titanic_df = pd.read_csv('titanic.csv')\n",
        "titanic_df.head()"
      ],
      "execution_count": null,
      "outputs": [
        {
          "output_type": "execute_result",
          "data": {
            "text/html": [
              "<div>\n",
              "<style scoped>\n",
              "    .dataframe tbody tr th:only-of-type {\n",
              "        vertical-align: middle;\n",
              "    }\n",
              "\n",
              "    .dataframe tbody tr th {\n",
              "        vertical-align: top;\n",
              "    }\n",
              "\n",
              "    .dataframe thead th {\n",
              "        text-align: right;\n",
              "    }\n",
              "</style>\n",
              "<table border=\"1\" class=\"dataframe\">\n",
              "  <thead>\n",
              "    <tr style=\"text-align: right;\">\n",
              "      <th></th>\n",
              "      <th>PassengerId</th>\n",
              "      <th>Survived</th>\n",
              "      <th>Pclass</th>\n",
              "      <th>Name</th>\n",
              "      <th>Sex</th>\n",
              "      <th>Age</th>\n",
              "      <th>SibSp</th>\n",
              "      <th>Parch</th>\n",
              "      <th>Ticket</th>\n",
              "      <th>Fare</th>\n",
              "      <th>Cabin</th>\n",
              "      <th>Embarked</th>\n",
              "    </tr>\n",
              "  </thead>\n",
              "  <tbody>\n",
              "    <tr>\n",
              "      <th>0</th>\n",
              "      <td>1</td>\n",
              "      <td>0</td>\n",
              "      <td>3</td>\n",
              "      <td>Braund, Mr. Owen Harris</td>\n",
              "      <td>male</td>\n",
              "      <td>22.0</td>\n",
              "      <td>1</td>\n",
              "      <td>0</td>\n",
              "      <td>A/5 21171</td>\n",
              "      <td>7.2500</td>\n",
              "      <td>NaN</td>\n",
              "      <td>S</td>\n",
              "    </tr>\n",
              "    <tr>\n",
              "      <th>1</th>\n",
              "      <td>2</td>\n",
              "      <td>1</td>\n",
              "      <td>1</td>\n",
              "      <td>Cumings, Mrs. John Bradley (Florence Briggs Th...</td>\n",
              "      <td>female</td>\n",
              "      <td>38.0</td>\n",
              "      <td>1</td>\n",
              "      <td>0</td>\n",
              "      <td>PC 17599</td>\n",
              "      <td>71.2833</td>\n",
              "      <td>C85</td>\n",
              "      <td>C</td>\n",
              "    </tr>\n",
              "    <tr>\n",
              "      <th>2</th>\n",
              "      <td>3</td>\n",
              "      <td>1</td>\n",
              "      <td>3</td>\n",
              "      <td>Heikkinen, Miss. Laina</td>\n",
              "      <td>female</td>\n",
              "      <td>26.0</td>\n",
              "      <td>0</td>\n",
              "      <td>0</td>\n",
              "      <td>STON/O2. 3101282</td>\n",
              "      <td>7.9250</td>\n",
              "      <td>NaN</td>\n",
              "      <td>S</td>\n",
              "    </tr>\n",
              "    <tr>\n",
              "      <th>3</th>\n",
              "      <td>4</td>\n",
              "      <td>1</td>\n",
              "      <td>1</td>\n",
              "      <td>Futrelle, Mrs. Jacques Heath (Lily May Peel)</td>\n",
              "      <td>female</td>\n",
              "      <td>35.0</td>\n",
              "      <td>1</td>\n",
              "      <td>0</td>\n",
              "      <td>113803</td>\n",
              "      <td>53.1000</td>\n",
              "      <td>C123</td>\n",
              "      <td>S</td>\n",
              "    </tr>\n",
              "    <tr>\n",
              "      <th>4</th>\n",
              "      <td>5</td>\n",
              "      <td>0</td>\n",
              "      <td>3</td>\n",
              "      <td>Allen, Mr. William Henry</td>\n",
              "      <td>male</td>\n",
              "      <td>35.0</td>\n",
              "      <td>0</td>\n",
              "      <td>0</td>\n",
              "      <td>373450</td>\n",
              "      <td>8.0500</td>\n",
              "      <td>NaN</td>\n",
              "      <td>S</td>\n",
              "    </tr>\n",
              "  </tbody>\n",
              "</table>\n",
              "</div>"
            ],
            "text/plain": [
              "   PassengerId  Survived  Pclass  \\\n",
              "0            1         0       3   \n",
              "1            2         1       1   \n",
              "2            3         1       3   \n",
              "3            4         1       1   \n",
              "4            5         0       3   \n",
              "\n",
              "                                                Name     Sex   Age  SibSp  \\\n",
              "0                            Braund, Mr. Owen Harris    male  22.0      1   \n",
              "1  Cumings, Mrs. John Bradley (Florence Briggs Th...  female  38.0      1   \n",
              "2                             Heikkinen, Miss. Laina  female  26.0      0   \n",
              "3       Futrelle, Mrs. Jacques Heath (Lily May Peel)  female  35.0      1   \n",
              "4                           Allen, Mr. William Henry    male  35.0      0   \n",
              "\n",
              "   Parch            Ticket     Fare Cabin Embarked  \n",
              "0      0         A/5 21171   7.2500   NaN        S  \n",
              "1      0          PC 17599  71.2833   C85        C  \n",
              "2      0  STON/O2. 3101282   7.9250   NaN        S  \n",
              "3      0            113803  53.1000  C123        S  \n",
              "4      0            373450   8.0500   NaN        S  "
            ]
          },
          "metadata": {
            "tags": []
          },
          "execution_count": 2
        }
      ]
    },
    {
      "cell_type": "markdown",
      "metadata": {
        "id": "OOmRJnpvpVNX"
      },
      "source": [
        "**Shape of data**"
      ]
    },
    {
      "cell_type": "code",
      "metadata": {
        "id": "jB8tVslXpVNX",
        "outputId": "ce4e8bb9-e473-4268-c19e-5a00d3d89146"
      },
      "source": [
        "print(titanic_df.shape)"
      ],
      "execution_count": null,
      "outputs": [
        {
          "output_type": "stream",
          "text": [
            "(891, 12)\n"
          ],
          "name": "stdout"
        }
      ]
    },
    {
      "cell_type": "markdown",
      "metadata": {
        "id": "rO07UMqnpnVw"
      },
      "source": [
        "#**2. Perform exploratory data analysis (EDA). Describe the EDA process and result with at least four data visualizations. Explain whether the data is sufficient to answer the question you developed based on EDA result. If it is not sufficient, how did you address the issue?**"
      ]
    },
    {
      "cell_type": "markdown",
      "metadata": {
        "id": "SWlQtYR7pVNX"
      },
      "source": [
        "**Attribute**"
      ]
    },
    {
      "cell_type": "code",
      "metadata": {
        "id": "WQ2tCt3cpVNX",
        "outputId": "9c0547c2-27be-46ac-c7f7-72a214393951"
      },
      "source": [
        "print(titanic_df.info())\n",
        "print(\"Total Number attributes : \"+str(len(titanic_df.columns)))\n",
        "print(\"\\nHere survived column is lable column other columns are feature columns\\n\")"
      ],
      "execution_count": null,
      "outputs": [
        {
          "output_type": "stream",
          "text": [
            "<class 'pandas.core.frame.DataFrame'>\n",
            "RangeIndex: 891 entries, 0 to 890\n",
            "Data columns (total 12 columns):\n",
            " #   Column       Non-Null Count  Dtype  \n",
            "---  ------       --------------  -----  \n",
            " 0   PassengerId  891 non-null    int64  \n",
            " 1   Survived     891 non-null    int64  \n",
            " 2   Pclass       891 non-null    int64  \n",
            " 3   Name         891 non-null    object \n",
            " 4   Sex          891 non-null    object \n",
            " 5   Age          714 non-null    float64\n",
            " 6   SibSp        891 non-null    int64  \n",
            " 7   Parch        891 non-null    int64  \n",
            " 8   Ticket       891 non-null    object \n",
            " 9   Fare         891 non-null    float64\n",
            " 10  Cabin        204 non-null    object \n",
            " 11  Embarked     889 non-null    object \n",
            "dtypes: float64(2), int64(5), object(5)\n",
            "memory usage: 83.7+ KB\n",
            "None\n",
            "Total Number attributes : 12\n",
            "\n",
            "Here survived column is lable column other columns are feature columns\n",
            "\n"
          ],
          "name": "stdout"
        }
      ]
    },
    {
      "cell_type": "markdown",
      "metadata": {
        "id": "eTugFiZ2p8m_"
      },
      "source": [
        "**From the above analysis we can infer that the dataset consists of all the required colums. If we have any null values in the dataset we need to replace the null values with the most repeated value or the central tendancy measure. For the dimenasionality reduction we need to eliminate the columns which are not influencing the predicting variable**"
      ]
    },
    {
      "cell_type": "markdown",
      "metadata": {
        "id": "RhMt8wSHpVNX"
      },
      "source": [
        "# EDA : Explonatory data analysis"
      ]
    },
    {
      "cell_type": "code",
      "metadata": {
        "id": "TzFwR8Y9pVNX",
        "outputId": "4f10ca2e-b1bb-4f8a-d980-4cf96f1f5f4a"
      },
      "source": [
        "titanic_df.describe()"
      ],
      "execution_count": null,
      "outputs": [
        {
          "output_type": "execute_result",
          "data": {
            "text/html": [
              "<div>\n",
              "<style scoped>\n",
              "    .dataframe tbody tr th:only-of-type {\n",
              "        vertical-align: middle;\n",
              "    }\n",
              "\n",
              "    .dataframe tbody tr th {\n",
              "        vertical-align: top;\n",
              "    }\n",
              "\n",
              "    .dataframe thead th {\n",
              "        text-align: right;\n",
              "    }\n",
              "</style>\n",
              "<table border=\"1\" class=\"dataframe\">\n",
              "  <thead>\n",
              "    <tr style=\"text-align: right;\">\n",
              "      <th></th>\n",
              "      <th>PassengerId</th>\n",
              "      <th>Survived</th>\n",
              "      <th>Pclass</th>\n",
              "      <th>Age</th>\n",
              "      <th>SibSp</th>\n",
              "      <th>Parch</th>\n",
              "      <th>Fare</th>\n",
              "    </tr>\n",
              "  </thead>\n",
              "  <tbody>\n",
              "    <tr>\n",
              "      <th>count</th>\n",
              "      <td>891.000000</td>\n",
              "      <td>891.000000</td>\n",
              "      <td>891.000000</td>\n",
              "      <td>714.000000</td>\n",
              "      <td>891.000000</td>\n",
              "      <td>891.000000</td>\n",
              "      <td>891.000000</td>\n",
              "    </tr>\n",
              "    <tr>\n",
              "      <th>mean</th>\n",
              "      <td>446.000000</td>\n",
              "      <td>0.383838</td>\n",
              "      <td>2.308642</td>\n",
              "      <td>29.699118</td>\n",
              "      <td>0.523008</td>\n",
              "      <td>0.381594</td>\n",
              "      <td>32.204208</td>\n",
              "    </tr>\n",
              "    <tr>\n",
              "      <th>std</th>\n",
              "      <td>257.353842</td>\n",
              "      <td>0.486592</td>\n",
              "      <td>0.836071</td>\n",
              "      <td>14.526497</td>\n",
              "      <td>1.102743</td>\n",
              "      <td>0.806057</td>\n",
              "      <td>49.693429</td>\n",
              "    </tr>\n",
              "    <tr>\n",
              "      <th>min</th>\n",
              "      <td>1.000000</td>\n",
              "      <td>0.000000</td>\n",
              "      <td>1.000000</td>\n",
              "      <td>0.420000</td>\n",
              "      <td>0.000000</td>\n",
              "      <td>0.000000</td>\n",
              "      <td>0.000000</td>\n",
              "    </tr>\n",
              "    <tr>\n",
              "      <th>25%</th>\n",
              "      <td>223.500000</td>\n",
              "      <td>0.000000</td>\n",
              "      <td>2.000000</td>\n",
              "      <td>20.125000</td>\n",
              "      <td>0.000000</td>\n",
              "      <td>0.000000</td>\n",
              "      <td>7.910400</td>\n",
              "    </tr>\n",
              "    <tr>\n",
              "      <th>50%</th>\n",
              "      <td>446.000000</td>\n",
              "      <td>0.000000</td>\n",
              "      <td>3.000000</td>\n",
              "      <td>28.000000</td>\n",
              "      <td>0.000000</td>\n",
              "      <td>0.000000</td>\n",
              "      <td>14.454200</td>\n",
              "    </tr>\n",
              "    <tr>\n",
              "      <th>75%</th>\n",
              "      <td>668.500000</td>\n",
              "      <td>1.000000</td>\n",
              "      <td>3.000000</td>\n",
              "      <td>38.000000</td>\n",
              "      <td>1.000000</td>\n",
              "      <td>0.000000</td>\n",
              "      <td>31.000000</td>\n",
              "    </tr>\n",
              "    <tr>\n",
              "      <th>max</th>\n",
              "      <td>891.000000</td>\n",
              "      <td>1.000000</td>\n",
              "      <td>3.000000</td>\n",
              "      <td>80.000000</td>\n",
              "      <td>8.000000</td>\n",
              "      <td>6.000000</td>\n",
              "      <td>512.329200</td>\n",
              "    </tr>\n",
              "  </tbody>\n",
              "</table>\n",
              "</div>"
            ],
            "text/plain": [
              "       PassengerId    Survived      Pclass         Age       SibSp  \\\n",
              "count   891.000000  891.000000  891.000000  714.000000  891.000000   \n",
              "mean    446.000000    0.383838    2.308642   29.699118    0.523008   \n",
              "std     257.353842    0.486592    0.836071   14.526497    1.102743   \n",
              "min       1.000000    0.000000    1.000000    0.420000    0.000000   \n",
              "25%     223.500000    0.000000    2.000000   20.125000    0.000000   \n",
              "50%     446.000000    0.000000    3.000000   28.000000    0.000000   \n",
              "75%     668.500000    1.000000    3.000000   38.000000    1.000000   \n",
              "max     891.000000    1.000000    3.000000   80.000000    8.000000   \n",
              "\n",
              "            Parch        Fare  \n",
              "count  891.000000  891.000000  \n",
              "mean     0.381594   32.204208  \n",
              "std      0.806057   49.693429  \n",
              "min      0.000000    0.000000  \n",
              "25%      0.000000    7.910400  \n",
              "50%      0.000000   14.454200  \n",
              "75%      0.000000   31.000000  \n",
              "max      6.000000  512.329200  "
            ]
          },
          "metadata": {
            "tags": []
          },
          "execution_count": 5
        }
      ]
    },
    {
      "cell_type": "code",
      "metadata": {
        "id": "2UtfSKS9pVNY",
        "outputId": "5927107d-260d-4b74-8965-5c6473ee05b4"
      },
      "source": [
        "# here we take only 4 features to  perform analysis.\n",
        "sns.set_style(\"whitegrid\");\n",
        "sns.pairplot(titanic_df[[\"Survived\",\"Pclass\",\"Fare\",\"Age\"]], hue=\"Survived\", size=3);\n",
        "plt.show()"
      ],
      "execution_count": null,
      "outputs": [
        {
          "output_type": "stream",
          "text": [
            "d:\\freelence\\textprocessingengine\\venv\\lib\\site-packages\\seaborn\\axisgrid.py:1912: UserWarning: The `size` parameter has been renamed to `height`; please update your code.\n",
            "  warnings.warn(msg, UserWarning)\n"
          ],
          "name": "stderr"
        },
        {
          "output_type": "display_data",
          "data": {
            "image/png": "[encoded data removed]",
            "text/plain": [
              "<Figure size 695x648 with 12 Axes>"
            ]
          },
          "metadata": {
            "tags": []
          }
        }
      ]
    },
    {
      "cell_type": "markdown",
      "metadata": {
        "id": "4e8GiY5DpVNY"
      },
      "source": [
        "**From the above grid,** <br>\n",
        "- **passengers : who paid higher fare or travelling in upper class has a higher chances to survive.**<br>\n",
        "- **Age : young persons have a higher chance to survive than old peoples.**<br>"
      ]
    },
    {
      "cell_type": "code",
      "metadata": {
        "id": "i1C3yk3lpVNY",
        "outputId": "22450911-badf-468e-ad27-aeb3a6c0a4b3"
      },
      "source": [
        "# Countplot counts the each category of value and plot that.\n",
        "sns.countplot(titanic_df['Survived'],data = titanic_df)"
      ],
      "execution_count": null,
      "outputs": [
        {
          "output_type": "stream",
          "text": [
            "d:\\freelence\\textprocessingengine\\venv\\lib\\site-packages\\seaborn\\_decorators.py:43: FutureWarning: Pass the following variable as a keyword arg: x. From version 0.12, the only valid positional argument will be `data`, and passing other arguments without an explicit keyword will result in an error or misinterpretation.\n",
            "  FutureWarning\n"
          ],
          "name": "stderr"
        },
        {
          "output_type": "execute_result",
          "data": {
            "text/plain": [
              "<AxesSubplot:xlabel='Survived', ylabel='count'>"
            ]
          },
          "metadata": {
            "tags": []
          },
          "execution_count": 7
        },
        {
          "output_type": "display_data",
          "data": {
            "image/png": "[encoded data removed]",
            "text/plain": [
              "<Figure size 432x288 with 1 Axes>"
            ]
          },
          "metadata": {
            "tags": []
          }
        }
      ]
    },
    {
      "cell_type": "code",
      "metadata": {
        "id": "QHauDyKHpVNY",
        "outputId": "e8d14040-fa87-42ae-8f8d-855f95e49d8e"
      },
      "source": [
        "sns.countplot(titanic_df[\"Pclass\"],hue = titanic_df[\"Survived\"],data = titanic_df)"
      ],
      "execution_count": null,
      "outputs": [
        {
          "output_type": "stream",
          "text": [
            "d:\\freelence\\textprocessingengine\\venv\\lib\\site-packages\\seaborn\\_decorators.py:43: FutureWarning: Pass the following variable as a keyword arg: x. From version 0.12, the only valid positional argument will be `data`, and passing other arguments without an explicit keyword will result in an error or misinterpretation.\n",
            "  FutureWarning\n"
          ],
          "name": "stderr"
        },
        {
          "output_type": "execute_result",
          "data": {
            "text/plain": [
              "<AxesSubplot:xlabel='Pclass', ylabel='count'>"
            ]
          },
          "metadata": {
            "tags": []
          },
          "execution_count": 8
        },
        {
          "output_type": "display_data",
          "data": {
            "image/png": "[encoded data removed]",
            "text/plain": [
              "<Figure size 432x288 with 1 Axes>"
            ]
          },
          "metadata": {
            "tags": []
          }
        }
      ]
    },
    {
      "cell_type": "markdown",
      "metadata": {
        "id": "pLTl7w20pVNZ"
      },
      "source": [
        "- **Persons who were travelling in 3rd class , mostly of can not survived.**\n",
        "- **Persons who were travelling in 2nd class, almost equal number of people not surviced and survived.**\n",
        "- **Persons who were travelling in 1st class, large number of people survived.**\n",
        "\n",
        "- **persons who were travelling in higher class like 1st has higher chance to survive.**"
      ]
    },
    {
      "cell_type": "code",
      "metadata": {
        "id": "0KESHyiJpVNZ",
        "outputId": "8e71e6a9-af1e-4c8c-9798-3f7291109ebe"
      },
      "source": [
        "sns.countplot(titanic_df[\"Sex\"],hue = titanic_df[\"Survived\"],data = titanic_df)"
      ],
      "execution_count": null,
      "outputs": [
        {
          "output_type": "stream",
          "text": [
            "d:\\freelence\\textprocessingengine\\venv\\lib\\site-packages\\seaborn\\_decorators.py:43: FutureWarning: Pass the following variable as a keyword arg: x. From version 0.12, the only valid positional argument will be `data`, and passing other arguments without an explicit keyword will result in an error or misinterpretation.\n",
            "  FutureWarning\n"
          ],
          "name": "stderr"
        },
        {
          "output_type": "execute_result",
          "data": {
            "text/plain": [
              "<AxesSubplot:xlabel='Sex', ylabel='count'>"
            ]
          },
          "metadata": {
            "tags": []
          },
          "execution_count": 9
        },
        {
          "output_type": "display_data",
          "data": {
            "image/png": "[encoded data removed]",
            "text/plain": [
              "<Figure size 432x288 with 1 Axes>"
            ]
          },
          "metadata": {
            "tags": []
          }
        }
      ]
    },
    {
      "cell_type": "markdown",
      "metadata": {
        "id": "a4zxKSqxpVNZ"
      },
      "source": [
        "- **we can say male passenger has higher chances to die and female passengers has higher chance to survive**"
      ]
    },
    {
      "cell_type": "markdown",
      "metadata": {
        "id": "TBjz_bSzrxTB"
      },
      "source": [
        "**Replace the null values with 28**"
      ]
    },
    {
      "cell_type": "code",
      "metadata": {
        "id": "TRvAGm-LpVNZ",
        "outputId": "ae262922-e755-406e-c392-ee8a122a484d"
      },
      "source": [
        "# Filling null Values\n",
        "data = titanic_df.fillna(28)\n",
        "# plotting Pdfs\n",
        "sns.FacetGrid(titanic_df, hue=\"Survived\", size=5).map(sns.distplot, \"Age\").add_legend()\n",
        "plt.show()"
      ],
      "execution_count": null,
      "outputs": [
        {
          "output_type": "stream",
          "text": [
            "d:\\freelence\\textprocessingengine\\venv\\lib\\site-packages\\seaborn\\axisgrid.py:316: UserWarning: The `size` parameter has been renamed to `height`; please update your code.\n",
            "  warnings.warn(msg, UserWarning)\n",
            "d:\\freelence\\textprocessingengine\\venv\\lib\\site-packages\\seaborn\\distributions.py:2551: FutureWarning: `distplot` is a deprecated function and will be removed in a future version. Please adapt your code to use either `displot` (a figure-level function with similar flexibility) or `histplot` (an axes-level function for histograms).\n",
            "  warnings.warn(msg, FutureWarning)\n",
            "d:\\freelence\\textprocessingengine\\venv\\lib\\site-packages\\seaborn\\distributions.py:2551: FutureWarning: `distplot` is a deprecated function and will be removed in a future version. Please adapt your code to use either `displot` (a figure-level function with similar flexibility) or `histplot` (an axes-level function for histograms).\n",
            "  warnings.warn(msg, FutureWarning)\n"
          ],
          "name": "stderr"
        },
        {
          "output_type": "display_data",
          "data": {
            "image/png": "[encoded data removed]",
            "text/plain": [
              "<Figure size 407x360 with 1 Axes>"
            ]
          },
          "metadata": {
            "tags": []
          }
        }
      ]
    },
    {
      "cell_type": "markdown",
      "metadata": {
        "id": "yroSpw-9pVNZ"
      },
      "source": [
        "- **Passengers who have age <20 years so child's or teenagers , out of them numbers of passengers who survived is greater than numbers of people who died**\n",
        "- **Persons who have age >20 years and <45 years. Out of them numbers of passengers who died is greater than numbers of passengers who survived.**\n",
        "- **Rest of the pdfs are overlapping much so we will not struggle here much to get some info. But people with age greater then 65 almost all of them died**"
      ]
    },
    {
      "cell_type": "code",
      "metadata": {
        "id": "uNDaQaFTpVNZ",
        "outputId": "ec48423b-68d9-4c32-b45f-5b9de679f887"
      },
      "source": [
        "sns.countplot(titanic_df[\"SibSp\"],hue = titanic_df[\"Survived\"],data = titanic_df)"
      ],
      "execution_count": null,
      "outputs": [
        {
          "output_type": "stream",
          "text": [
            "d:\\freelence\\textprocessingengine\\venv\\lib\\site-packages\\seaborn\\_decorators.py:43: FutureWarning: Pass the following variable as a keyword arg: x. From version 0.12, the only valid positional argument will be `data`, and passing other arguments without an explicit keyword will result in an error or misinterpretation.\n",
            "  FutureWarning\n"
          ],
          "name": "stderr"
        },
        {
          "output_type": "execute_result",
          "data": {
            "text/plain": [
              "<AxesSubplot:xlabel='SibSp', ylabel='count'>"
            ]
          },
          "metadata": {
            "tags": []
          },
          "execution_count": 11
        },
        {
          "output_type": "display_data",
          "data": {
            "image/png": "[encoded data removed]",
            "text/plain": [
              "<Figure size 432x288 with 1 Axes>"
            ]
          },
          "metadata": {
            "tags": []
          }
        }
      ]
    },
    {
      "cell_type": "markdown",
      "metadata": {
        "id": "DIAUyJ8mpVNa"
      },
      "source": [
        "- **Passengers who have 0 siblings mostly of them died.**\n",
        "- **Passengers with 1 or 2 sibling has equally chance for both die and survive.**\n",
        "- **But wait its interesting. passengers who have higher number of siblings like 3 , 4 , 5, 8 has a very low chance to survive or almost 0% chance to survive. But it should be high right.. because if I were on the titanic and have 4 , 5 or 8 siblings on titanic then chances of my survived.**"
      ]
    },
    {
      "cell_type": "code",
      "metadata": {
        "id": "qIGnw_YfpVNa",
        "outputId": "fe014e67-2ae8-46f8-9c31-61d4df27b9f3"
      },
      "source": [
        "sns.countplot(titanic_df[\"Parch\"],hue = titanic_df[\"Survived\"],data = titanic_df)"
      ],
      "execution_count": null,
      "outputs": [
        {
          "output_type": "stream",
          "text": [
            "d:\\freelence\\textprocessingengine\\venv\\lib\\site-packages\\seaborn\\_decorators.py:43: FutureWarning: Pass the following variable as a keyword arg: x. From version 0.12, the only valid positional argument will be `data`, and passing other arguments without an explicit keyword will result in an error or misinterpretation.\n",
            "  FutureWarning\n"
          ],
          "name": "stderr"
        },
        {
          "output_type": "execute_result",
          "data": {
            "text/plain": [
              "<AxesSubplot:xlabel='Parch', ylabel='count'>"
            ]
          },
          "metadata": {
            "tags": []
          },
          "execution_count": 12
        },
        {
          "output_type": "display_data",
          "data": {
            "image/png": "[encoded data removed]",
            "text/plain": [
              "<Figure size 432x288 with 1 Axes>"
            ]
          },
          "metadata": {
            "tags": []
          }
        }
      ]
    },
    {
      "cell_type": "code",
      "metadata": {
        "id": "Mfv0_hxIpVNa",
        "outputId": "206e2dd2-1cb8-41d9-9323-55e8fb6aad12"
      },
      "source": [
        "sns.FacetGrid(titanic_df, hue=\"Survived\", size=5) \\\n",
        " .map(sns.distplot, \"Fare\") \\\n",
        " .add_legend();\n",
        "plt.show();"
      ],
      "execution_count": null,
      "outputs": [
        {
          "output_type": "stream",
          "text": [
            "d:\\freelence\\textprocessingengine\\venv\\lib\\site-packages\\seaborn\\axisgrid.py:316: UserWarning: The `size` parameter has been renamed to `height`; please update your code.\n",
            "  warnings.warn(msg, UserWarning)\n",
            "d:\\freelence\\textprocessingengine\\venv\\lib\\site-packages\\seaborn\\distributions.py:2551: FutureWarning: `distplot` is a deprecated function and will be removed in a future version. Please adapt your code to use either `displot` (a figure-level function with similar flexibility) or `histplot` (an axes-level function for histograms).\n",
            "  warnings.warn(msg, FutureWarning)\n",
            "d:\\freelence\\textprocessingengine\\venv\\lib\\site-packages\\seaborn\\distributions.py:2551: FutureWarning: `distplot` is a deprecated function and will be removed in a future version. Please adapt your code to use either `displot` (a figure-level function with similar flexibility) or `histplot` (an axes-level function for histograms).\n",
            "  warnings.warn(msg, FutureWarning)\n"
          ],
          "name": "stderr"
        },
        {
          "output_type": "display_data",
          "data": {
            "image/png": "[encoded data removed]",
            "text/plain": [
              "<Figure size 407x360 with 1 Axes>"
            ]
          },
          "metadata": {
            "tags": []
          }
        }
      ]
    },
    {
      "cell_type": "markdown",
      "metadata": {
        "id": "hOQJNZpPpVNa"
      },
      "source": [
        "#**3) Describe any data cleaning or transformations that you perform and why they are motivated by your EDA?**\n",
        "\n",
        "**A) I am eliminating the columns \"PassengerId\", \"Name\" , \"Ticket\" , \"Cabin\" which are not useful for prediction.**\n",
        "\n",
        "\n",
        "\n",
        "\n",
        "**Passengers who paid low fair has a higher chances to die. On the other hand passengers who paid high fair has a higher chance to survive.**"
      ]
    },
    {
      "cell_type": "code",
      "metadata": {
        "scrolled": true,
        "id": "bC_XHELYpVNa",
        "outputId": "0a48ab2b-4382-4dde-ee8c-b10004ce3abc"
      },
      "source": [
        "\n",
        "sns.countplot(titanic_df[\"Embarked\"],hue = titanic_df[\"Survived\"],data = titanic_df)"
      ],
      "execution_count": null,
      "outputs": [
        {
          "output_type": "stream",
          "text": [
            "d:\\freelence\\textprocessingengine\\venv\\lib\\site-packages\\seaborn\\_decorators.py:43: FutureWarning: Pass the following variable as a keyword arg: x. From version 0.12, the only valid positional argument will be `data`, and passing other arguments without an explicit keyword will result in an error or misinterpretation.\n",
            "  FutureWarning\n"
          ],
          "name": "stderr"
        },
        {
          "output_type": "execute_result",
          "data": {
            "text/plain": [
              "<AxesSubplot:xlabel='Embarked', ylabel='count'>"
            ]
          },
          "metadata": {
            "tags": []
          },
          "execution_count": 14
        },
        {
          "output_type": "display_data",
          "data": {
            "image/png": "[encoded data removed]",
            "text/plain": [
              "<Figure size 432x288 with 1 Axes>"
            ]
          },
          "metadata": {
            "tags": []
          }
        }
      ]
    },
    {
      "cell_type": "markdown",
      "metadata": {
        "id": "7PJdoWXTpVNb"
      },
      "source": [
        "**Data Cleaning and data transformation (categorical and continues data transformation)**"
      ]
    },
    {
      "cell_type": "markdown",
      "metadata": {
        "id": "Nc7Mj7QQpVNb"
      },
      "source": [
        "- **feature PassengerId and Passenger name,tickets these to features are not useful for prediction so its better to drop theme from dataset.**"
      ]
    },
    {
      "cell_type": "code",
      "metadata": {
        "id": "Pio-f1MgpVNb",
        "outputId": "d02a6b37-22b0-4f28-bff1-005965f42667"
      },
      "source": [
        "titanic_final_df = titanic_df.drop([\"PassengerId\", \"Name\" , \"Ticket\" , \"Cabin\"],axis = 1)\n",
        "titanic_final_df.head()"
      ],
      "execution_count": null,
      "outputs": [
        {
          "output_type": "execute_result",
          "data": {
            "text/html": [
              "<div>\n",
              "<style scoped>\n",
              "    .dataframe tbody tr th:only-of-type {\n",
              "        vertical-align: middle;\n",
              "    }\n",
              "\n",
              "    .dataframe tbody tr th {\n",
              "        vertical-align: top;\n",
              "    }\n",
              "\n",
              "    .dataframe thead th {\n",
              "        text-align: right;\n",
              "    }\n",
              "</style>\n",
              "<table border=\"1\" class=\"dataframe\">\n",
              "  <thead>\n",
              "    <tr style=\"text-align: right;\">\n",
              "      <th></th>\n",
              "      <th>Survived</th>\n",
              "      <th>Pclass</th>\n",
              "      <th>Sex</th>\n",
              "      <th>Age</th>\n",
              "      <th>SibSp</th>\n",
              "      <th>Parch</th>\n",
              "      <th>Fare</th>\n",
              "      <th>Embarked</th>\n",
              "    </tr>\n",
              "  </thead>\n",
              "  <tbody>\n",
              "    <tr>\n",
              "      <th>0</th>\n",
              "      <td>0</td>\n",
              "      <td>3</td>\n",
              "      <td>male</td>\n",
              "      <td>22.0</td>\n",
              "      <td>1</td>\n",
              "      <td>0</td>\n",
              "      <td>7.2500</td>\n",
              "      <td>S</td>\n",
              "    </tr>\n",
              "    <tr>\n",
              "      <th>1</th>\n",
              "      <td>1</td>\n",
              "      <td>1</td>\n",
              "      <td>female</td>\n",
              "      <td>38.0</td>\n",
              "      <td>1</td>\n",
              "      <td>0</td>\n",
              "      <td>71.2833</td>\n",
              "      <td>C</td>\n",
              "    </tr>\n",
              "    <tr>\n",
              "      <th>2</th>\n",
              "      <td>1</td>\n",
              "      <td>3</td>\n",
              "      <td>female</td>\n",
              "      <td>26.0</td>\n",
              "      <td>0</td>\n",
              "      <td>0</td>\n",
              "      <td>7.9250</td>\n",
              "      <td>S</td>\n",
              "    </tr>\n",
              "    <tr>\n",
              "      <th>3</th>\n",
              "      <td>1</td>\n",
              "      <td>1</td>\n",
              "      <td>female</td>\n",
              "      <td>35.0</td>\n",
              "      <td>1</td>\n",
              "      <td>0</td>\n",
              "      <td>53.1000</td>\n",
              "      <td>S</td>\n",
              "    </tr>\n",
              "    <tr>\n",
              "      <th>4</th>\n",
              "      <td>0</td>\n",
              "      <td>3</td>\n",
              "      <td>male</td>\n",
              "      <td>35.0</td>\n",
              "      <td>0</td>\n",
              "      <td>0</td>\n",
              "      <td>8.0500</td>\n",
              "      <td>S</td>\n",
              "    </tr>\n",
              "  </tbody>\n",
              "</table>\n",
              "</div>"
            ],
            "text/plain": [
              "   Survived  Pclass     Sex   Age  SibSp  Parch     Fare Embarked\n",
              "0         0       3    male  22.0      1      0   7.2500        S\n",
              "1         1       1  female  38.0      1      0  71.2833        C\n",
              "2         1       3  female  26.0      0      0   7.9250        S\n",
              "3         1       1  female  35.0      1      0  53.1000        S\n",
              "4         0       3    male  35.0      0      0   8.0500        S"
            ]
          },
          "metadata": {
            "tags": []
          },
          "execution_count": 15
        }
      ]
    },
    {
      "cell_type": "markdown",
      "metadata": {
        "id": "mJzaDdcZpVNb"
      },
      "source": [
        "**Remove missing Values**"
      ]
    },
    {
      "cell_type": "code",
      "metadata": {
        "id": "NLOu-sxepVNb",
        "outputId": "7cb3dc55-6741-4b28-e4ed-868b3ea98523"
      },
      "source": [
        "feat_list = list(titanic_final_df.columns.values)\n",
        "\n",
        "for feat in feat_list:\n",
        "    print (feat,\": \",sum(pd.isnull(titanic_final_df[feat])))"
      ],
      "execution_count": null,
      "outputs": [
        {
          "output_type": "stream",
          "text": [
            "Survived :  0\n",
            "Pclass :  0\n",
            "Sex :  0\n",
            "Age :  177\n",
            "SibSp :  0\n",
            "Parch :  0\n",
            "Fare :  0\n",
            "Embarked :  2\n"
          ],
          "name": "stdout"
        }
      ]
    },
    {
      "cell_type": "code",
      "metadata": {
        "id": "Qzfx9dS0pVNb"
      },
      "source": [
        "titanic_final_df[\"Age\"] = titanic_final_df[\"Age\"].fillna(titanic_final_df[\"Age\"].median())"
      ],
      "execution_count": null,
      "outputs": []
    },
    {
      "cell_type": "code",
      "metadata": {
        "id": "Rk3haWC_pVNb",
        "outputId": "c1459901-6c92-4357-c6c7-046ae16160c7"
      },
      "source": [
        "titanic_final_df[\"Embarked\"].mode()"
      ],
      "execution_count": null,
      "outputs": [
        {
          "output_type": "execute_result",
          "data": {
            "text/plain": [
              "0    S\n",
              "dtype: object"
            ]
          },
          "metadata": {
            "tags": []
          },
          "execution_count": 18
        }
      ]
    },
    {
      "cell_type": "code",
      "metadata": {
        "id": "EXIVrK-_pVNb"
      },
      "source": [
        "titanic_final_df[\"Embarked\"] = titanic_final_df[\"Embarked\"].fillna(\"S\")"
      ],
      "execution_count": null,
      "outputs": []
    },
    {
      "cell_type": "markdown",
      "metadata": {
        "id": "VD3IbDNopVNc"
      },
      "source": [
        "**OneHotLabel encoding fr categorical data column**"
      ]
    },
    {
      "cell_type": "code",
      "metadata": {
        "id": "Hyeh4UgkpVNc",
        "outputId": "5f13a1ef-177b-4b8e-d784-c44934ac3589"
      },
      "source": [
        "from sklearn.preprocessing import OneHotEncoder\n",
        "# creating instance of one-hot-encoder\n",
        "enc = OneHotEncoder(handle_unknown='ignore')\n",
        "# passing bridge-types-cat column (label encoded values of bridge_types)\n",
        "enc_df = pd.DataFrame(enc.fit_transform(titanic_final_df[['Sex']]).toarray())\n",
        "# merge with main df bridge_df on key values\n",
        "titanic_final_df = titanic_final_df.join(enc_df)\n",
        "titanic_final_df"
      ],
      "execution_count": null,
      "outputs": [
        {
          "output_type": "execute_result",
          "data": {
            "text/html": [
              "<div>\n",
              "<style scoped>\n",
              "    .dataframe tbody tr th:only-of-type {\n",
              "        vertical-align: middle;\n",
              "    }\n",
              "\n",
              "    .dataframe tbody tr th {\n",
              "        vertical-align: top;\n",
              "    }\n",
              "\n",
              "    .dataframe thead th {\n",
              "        text-align: right;\n",
              "    }\n",
              "</style>\n",
              "<table border=\"1\" class=\"dataframe\">\n",
              "  <thead>\n",
              "    <tr style=\"text-align: right;\">\n",
              "      <th></th>\n",
              "      <th>Survived</th>\n",
              "      <th>Pclass</th>\n",
              "      <th>Sex</th>\n",
              "      <th>Age</th>\n",
              "      <th>SibSp</th>\n",
              "      <th>Parch</th>\n",
              "      <th>Fare</th>\n",
              "      <th>Embarked</th>\n",
              "      <th>0</th>\n",
              "      <th>1</th>\n",
              "    </tr>\n",
              "  </thead>\n",
              "  <tbody>\n",
              "    <tr>\n",
              "      <th>0</th>\n",
              "      <td>0</td>\n",
              "      <td>3</td>\n",
              "      <td>male</td>\n",
              "      <td>22.0</td>\n",
              "      <td>1</td>\n",
              "      <td>0</td>\n",
              "      <td>7.2500</td>\n",
              "      <td>S</td>\n",
              "      <td>0.0</td>\n",
              "      <td>1.0</td>\n",
              "    </tr>\n",
              "    <tr>\n",
              "      <th>1</th>\n",
              "      <td>1</td>\n",
              "      <td>1</td>\n",
              "      <td>female</td>\n",
              "      <td>38.0</td>\n",
              "      <td>1</td>\n",
              "      <td>0</td>\n",
              "      <td>71.2833</td>\n",
              "      <td>C</td>\n",
              "      <td>1.0</td>\n",
              "      <td>0.0</td>\n",
              "    </tr>\n",
              "    <tr>\n",
              "      <th>2</th>\n",
              "      <td>1</td>\n",
              "      <td>3</td>\n",
              "      <td>female</td>\n",
              "      <td>26.0</td>\n",
              "      <td>0</td>\n",
              "      <td>0</td>\n",
              "      <td>7.9250</td>\n",
              "      <td>S</td>\n",
              "      <td>1.0</td>\n",
              "      <td>0.0</td>\n",
              "    </tr>\n",
              "    <tr>\n",
              "      <th>3</th>\n",
              "      <td>1</td>\n",
              "      <td>1</td>\n",
              "      <td>female</td>\n",
              "      <td>35.0</td>\n",
              "      <td>1</td>\n",
              "      <td>0</td>\n",
              "      <td>53.1000</td>\n",
              "      <td>S</td>\n",
              "      <td>1.0</td>\n",
              "      <td>0.0</td>\n",
              "    </tr>\n",
              "    <tr>\n",
              "      <th>4</th>\n",
              "      <td>0</td>\n",
              "      <td>3</td>\n",
              "      <td>male</td>\n",
              "      <td>35.0</td>\n",
              "      <td>0</td>\n",
              "      <td>0</td>\n",
              "      <td>8.0500</td>\n",
              "      <td>S</td>\n",
              "      <td>0.0</td>\n",
              "      <td>1.0</td>\n",
              "    </tr>\n",
              "    <tr>\n",
              "      <th>...</th>\n",
              "      <td>...</td>\n",
              "      <td>...</td>\n",
              "      <td>...</td>\n",
              "      <td>...</td>\n",
              "      <td>...</td>\n",
              "      <td>...</td>\n",
              "      <td>...</td>\n",
              "      <td>...</td>\n",
              "      <td>...</td>\n",
              "      <td>...</td>\n",
              "    </tr>\n",
              "    <tr>\n",
              "      <th>886</th>\n",
              "      <td>0</td>\n",
              "      <td>2</td>\n",
              "      <td>male</td>\n",
              "      <td>27.0</td>\n",
              "      <td>0</td>\n",
              "      <td>0</td>\n",
              "      <td>13.0000</td>\n",
              "      <td>S</td>\n",
              "      <td>0.0</td>\n",
              "      <td>1.0</td>\n",
              "    </tr>\n",
              "    <tr>\n",
              "      <th>887</th>\n",
              "      <td>1</td>\n",
              "      <td>1</td>\n",
              "      <td>female</td>\n",
              "      <td>19.0</td>\n",
              "      <td>0</td>\n",
              "      <td>0</td>\n",
              "      <td>30.0000</td>\n",
              "      <td>S</td>\n",
              "      <td>1.0</td>\n",
              "      <td>0.0</td>\n",
              "    </tr>\n",
              "    <tr>\n",
              "      <th>888</th>\n",
              "      <td>0</td>\n",
              "      <td>3</td>\n",
              "      <td>female</td>\n",
              "      <td>28.0</td>\n",
              "      <td>1</td>\n",
              "      <td>2</td>\n",
              "      <td>23.4500</td>\n",
              "      <td>S</td>\n",
              "      <td>1.0</td>\n",
              "      <td>0.0</td>\n",
              "    </tr>\n",
              "    <tr>\n",
              "      <th>889</th>\n",
              "      <td>1</td>\n",
              "      <td>1</td>\n",
              "      <td>male</td>\n",
              "      <td>26.0</td>\n",
              "      <td>0</td>\n",
              "      <td>0</td>\n",
              "      <td>30.0000</td>\n",
              "      <td>C</td>\n",
              "      <td>0.0</td>\n",
              "      <td>1.0</td>\n",
              "    </tr>\n",
              "    <tr>\n",
              "      <th>890</th>\n",
              "      <td>0</td>\n",
              "      <td>3</td>\n",
              "      <td>male</td>\n",
              "      <td>32.0</td>\n",
              "      <td>0</td>\n",
              "      <td>0</td>\n",
              "      <td>7.7500</td>\n",
              "      <td>Q</td>\n",
              "      <td>0.0</td>\n",
              "      <td>1.0</td>\n",
              "    </tr>\n",
              "  </tbody>\n",
              "</table>\n",
              "<p>891 rows × 10 columns</p>\n",
              "</div>"
            ],
            "text/plain": [
              "     Survived  Pclass     Sex   Age  SibSp  Parch     Fare Embarked    0    1\n",
              "0           0       3    male  22.0      1      0   7.2500        S  0.0  1.0\n",
              "1           1       1  female  38.0      1      0  71.2833        C  1.0  0.0\n",
              "2           1       3  female  26.0      0      0   7.9250        S  1.0  0.0\n",
              "3           1       1  female  35.0      1      0  53.1000        S  1.0  0.0\n",
              "4           0       3    male  35.0      0      0   8.0500        S  0.0  1.0\n",
              "..        ...     ...     ...   ...    ...    ...      ...      ...  ...  ...\n",
              "886         0       2    male  27.0      0      0  13.0000        S  0.0  1.0\n",
              "887         1       1  female  19.0      0      0  30.0000        S  1.0  0.0\n",
              "888         0       3  female  28.0      1      2  23.4500        S  1.0  0.0\n",
              "889         1       1    male  26.0      0      0  30.0000        C  0.0  1.0\n",
              "890         0       3    male  32.0      0      0   7.7500        Q  0.0  1.0\n",
              "\n",
              "[891 rows x 10 columns]"
            ]
          },
          "metadata": {
            "tags": []
          },
          "execution_count": 20
        }
      ]
    },
    {
      "cell_type": "code",
      "metadata": {
        "id": "TexBEaU0pVNc"
      },
      "source": [
        "titanic_final_df=titanic_final_df.rename(columns={0: \"Women\", 1: \"Men\"}, errors=\"raise\")"
      ],
      "execution_count": null,
      "outputs": []
    },
    {
      "cell_type": "code",
      "metadata": {
        "id": "Wau5En-ppVNc"
      },
      "source": [
        "titanic_final_df=titanic_final_df.drop('Sex', axis=1,)"
      ],
      "execution_count": null,
      "outputs": []
    },
    {
      "cell_type": "markdown",
      "metadata": {
        "id": "NMHF9AuQpVNc"
      },
      "source": [
        "**Age is continuous dimension so converting it in categorical using logical operation**"
      ]
    },
    {
      "cell_type": "code",
      "metadata": {
        "id": "FemWN2kVpVNc"
      },
      "source": [
        "# 0 is for child, 1 for adult and 2 for senior citizen\n",
        "age_list = []\n",
        "for data in titanic_final_df.Age:\n",
        "    if(data<18):\n",
        "        age_list.append(0)\n",
        "    elif(data>18 and data<45):\n",
        "        age_list.append(1)\n",
        "    else:\n",
        "        age_list.append(2)\n",
        "titanic_final_df[\"age_labels\"] =  age_list"
      ],
      "execution_count": null,
      "outputs": []
    },
    {
      "cell_type": "markdown",
      "metadata": {
        "id": "Jb80sEzKpVNc"
      },
      "source": [
        "- 0 : kids : 1 to 18\n",
        "- 1 : adult : 18 to 45\n",
        "- 2: senior citizen : greater than 45"
      ]
    },
    {
      "cell_type": "code",
      "metadata": {
        "id": "2SzZXiIgpVNc"
      },
      "source": [
        "titanic_final_df = titanic_final_df.drop('Age', axis=1,)"
      ],
      "execution_count": null,
      "outputs": []
    },
    {
      "cell_type": "code",
      "metadata": {
        "id": "ZvEchpJDpVNc",
        "outputId": "2fd218f4-638d-4fc0-b0cf-3bf5c054c4b9"
      },
      "source": [
        "titanic_final_df[\"Embarked\"][titanic_final_df[\"Embarked\"] == \"S\"] = 1\n",
        "titanic_final_df[\"Embarked\"][titanic_final_df[\"Embarked\"] == \"C\"] = 2\n",
        "titanic_final_df[\"Embarked\"][titanic_final_df[\"Embarked\"] == \"Q\"] = 3"
      ],
      "execution_count": null,
      "outputs": [
        {
          "output_type": "stream",
          "text": [
            "d:\\freelence\\textprocessingengine\\venv\\lib\\site-packages\\ipykernel_launcher.py:1: SettingWithCopyWarning: \n",
            "A value is trying to be set on a copy of a slice from a DataFrame\n",
            "\n",
            "See the caveats in the documentation: https://pandas.pydata.org/pandas-docs/stable/user_guide/indexing.html#returning-a-view-versus-a-copy\n",
            "  \"\"\"Entry point for launching an IPython kernel.\n",
            "d:\\freelence\\textprocessingengine\\venv\\lib\\site-packages\\ipykernel_launcher.py:2: SettingWithCopyWarning: \n",
            "A value is trying to be set on a copy of a slice from a DataFrame\n",
            "\n",
            "See the caveats in the documentation: https://pandas.pydata.org/pandas-docs/stable/user_guide/indexing.html#returning-a-view-versus-a-copy\n",
            "  \n",
            "d:\\freelence\\textprocessingengine\\venv\\lib\\site-packages\\ipykernel_launcher.py:3: SettingWithCopyWarning: \n",
            "A value is trying to be set on a copy of a slice from a DataFrame\n",
            "\n",
            "See the caveats in the documentation: https://pandas.pydata.org/pandas-docs/stable/user_guide/indexing.html#returning-a-view-versus-a-copy\n",
            "  This is separate from the ipykernel package so we can avoid doing imports until\n"
          ],
          "name": "stderr"
        }
      ]
    },
    {
      "cell_type": "markdown",
      "metadata": {
        "id": "6kq51S1qsosZ"
      },
      "source": [
        "#**4)Apply relevant inference or predication methods such as linear regression or K-nearest neighborhood (KNN) to analyze your processed data, and validate the analysis results using cross-validation. Explain the training process, and the loss functions used in the analysis. Using examples (i.e. the values of the loss functions) to explain how the minimal value(s) of the loss function is/are found. (7 points)**"
      ]
    },
    {
      "cell_type": "markdown",
      "metadata": {
        "id": "IzAj5rsGtD3y"
      },
      "source": [
        "**Knn is one of the simplest machine learning algorithm**\n",
        "**The predicted value is obtained by find the most nearest object to the classifier**\n",
        "**Usually we use positive k value which represents the number of cluster**\n",
        "**Example k = 3,5 or `0 etc.,**"
      ]
    },
    {
      "cell_type": "markdown",
      "metadata": {
        "id": "bjpwdO3UpVNc"
      },
      "source": [
        "# K-nearest neighborhood (KNN)"
      ]
    },
    {
      "cell_type": "markdown",
      "metadata": {
        "id": "EFqp8vlFpVNc"
      },
      "source": [
        "**Train Test Split**"
      ]
    },
    {
      "cell_type": "markdown",
      "metadata": {
        "id": "fOtDyeJmtyt2"
      },
      "source": [
        "**The X variable consists of all the attributes which are required for predicting Y**"
      ]
    },
    {
      "cell_type": "code",
      "metadata": {
        "id": "mZL4Gl2_pVNc"
      },
      "source": [
        "X = titanic_final_df.drop(\"Survived\",axis=1,)"
      ],
      "execution_count": null,
      "outputs": []
    },
    {
      "cell_type": "code",
      "metadata": {
        "id": "VN80wFX9pVNc"
      },
      "source": [
        "y = titanic_final_df[\"Survived\"]"
      ],
      "execution_count": null,
      "outputs": []
    },
    {
      "cell_type": "markdown",
      "metadata": {
        "id": "sCQ7E_IQtkHD"
      },
      "source": [
        "**Split the dataset to training and testing where we use 80% of dataset for training and 20% dataset for testing the model**"
      ]
    },
    {
      "cell_type": "code",
      "metadata": {
        "id": "EGnJZ2uMpVNc"
      },
      "source": [
        "from sklearn.model_selection import train_test_split\n",
        "X_train, X_test, y_train, y_test = train_test_split(X, y, test_size=0.20)"
      ],
      "execution_count": null,
      "outputs": []
    },
    {
      "cell_type": "markdown",
      "metadata": {
        "id": "hE864VMEpVNc"
      },
      "source": [
        "**KNN**"
      ]
    },
    {
      "cell_type": "markdown",
      "metadata": {
        "id": "I2EnbDOSuQDf"
      },
      "source": [
        "**Implement a k fold cross validation which is used to predict which k value is best for the analysis**\n",
        "**The cross validation process is repeated k times with each of the sub samples and used exaclty once for validation data**\n",
        "**Each observation is used for validation only once**\n",
        "**Here I am running the analysis for values from 1,3,...50 the step count is 2**"
      ]
    },
    {
      "cell_type": "code",
      "metadata": {
        "id": "dZruogrJpVNc",
        "outputId": "473aa2ba-a435-438a-93bf-2f0c6124e3f7"
      },
      "source": [
        "from sklearn.neighbors import KNeighborsClassifier\n",
        "from sklearn.metrics import confusion_matrix,accuracy_score\n",
        "from sklearn.model_selection import cross_val_score\n",
        "# make list of K for KNN\n",
        "k_list = list(range(1,50,2))\n",
        "cv_scores_list = []\n",
        "\n",
        "# 10-fold cross validation\n",
        "for k in k_list:\n",
        "    knn = KNeighborsClassifier(n_neighbors=k)\n",
        "    scores = cross_val_score(knn, X_train, y_train, cv=10, scoring='accuracy')\n",
        "    print(\"When K =\"+ str(k) +\" Score is :\"+str(scores))\n",
        "    cv_scores_list.append(scores.mean())"
      ],
      "execution_count": null,
      "outputs": [
        {
          "output_type": "stream",
          "text": [
            "When K =1 Score is :[0.68333333 0.78333333 0.65       0.68333333 0.73333333 0.8\n",
            " 0.74576271 0.74576271 0.69491525 0.77966102]\n",
            "When K =3 Score is :[0.66666667 0.76666667 0.68333333 0.73333333 0.8        0.78333333\n",
            " 0.6779661  0.72881356 0.66101695 0.79661017]\n",
            "When K =5 Score is :[0.71666667 0.81666667 0.6        0.73333333 0.7        0.76666667\n",
            " 0.6440678  0.77966102 0.6779661  0.74576271]\n",
            "When K =7 Score is :[0.68333333 0.76666667 0.63333333 0.78333333 0.73333333 0.76666667\n",
            " 0.74576271 0.74576271 0.71186441 0.77966102]\n",
            "When K =9 Score is :[0.68333333 0.71666667 0.65       0.8        0.75       0.76666667\n",
            " 0.77966102 0.77966102 0.6779661  0.77966102]\n",
            "When K =11 Score is :[0.65       0.71666667 0.61666667 0.81666667 0.7        0.73333333\n",
            " 0.74576271 0.76271186 0.69491525 0.77966102]\n",
            "When K =13 Score is :[0.65       0.78333333 0.63333333 0.8        0.7        0.7\n",
            " 0.77966102 0.76271186 0.66101695 0.81355932]\n",
            "When K =15 Score is :[0.66666667 0.75       0.63333333 0.78333333 0.73333333 0.68333333\n",
            " 0.74576271 0.76271186 0.66101695 0.81355932]\n",
            "When K =17 Score is :[0.63333333 0.73333333 0.6        0.76666667 0.71666667 0.66666667\n",
            " 0.77966102 0.76271186 0.62711864 0.81355932]\n",
            "When K =19 Score is :[0.65       0.7        0.58333333 0.78333333 0.73333333 0.68333333\n",
            " 0.72881356 0.77966102 0.66101695 0.79661017]\n",
            "When K =21 Score is :[0.65       0.71666667 0.58333333 0.75       0.76666667 0.65\n",
            " 0.71186441 0.81355932 0.69491525 0.79661017]\n",
            "When K =23 Score is :[0.61666667 0.7        0.58333333 0.75       0.76666667 0.65\n",
            " 0.69491525 0.79661017 0.69491525 0.77966102]\n",
            "When K =25 Score is :[0.58333333 0.71666667 0.58333333 0.75       0.78333333 0.63333333\n",
            " 0.66101695 0.81355932 0.6440678  0.76271186]\n",
            "When K =27 Score is :[0.58333333 0.71666667 0.6        0.73333333 0.76666667 0.65\n",
            " 0.66101695 0.81355932 0.62711864 0.74576271]\n",
            "When K =29 Score is :[0.58333333 0.71666667 0.58333333 0.75       0.75       0.66666667\n",
            " 0.69491525 0.79661017 0.69491525 0.71186441]\n",
            "When K =31 Score is :[0.58333333 0.71666667 0.6        0.73333333 0.68333333 0.65\n",
            " 0.66101695 0.76271186 0.6779661  0.72881356]\n",
            "When K =33 Score is :[0.6        0.71666667 0.58333333 0.75       0.7        0.65\n",
            " 0.69491525 0.74576271 0.69491525 0.72881356]\n",
            "When K =35 Score is :[0.61666667 0.7        0.6        0.76666667 0.66666667 0.65\n",
            " 0.6779661  0.74576271 0.74576271 0.74576271]\n",
            "When K =37 Score is :[0.63333333 0.7        0.6        0.76666667 0.68333333 0.65\n",
            " 0.6779661  0.74576271 0.72881356 0.72881356]\n",
            "When K =39 Score is :[0.61666667 0.66666667 0.58333333 0.71666667 0.73333333 0.65\n",
            " 0.6779661  0.72881356 0.72881356 0.74576271]\n",
            "When K =41 Score is :[0.61666667 0.66666667 0.58333333 0.73333333 0.7        0.61666667\n",
            " 0.6779661  0.72881356 0.71186441 0.72881356]\n",
            "When K =43 Score is :[0.61666667 0.66666667 0.58333333 0.71666667 0.68333333 0.6\n",
            " 0.6779661  0.76271186 0.72881356 0.69491525]\n",
            "When K =45 Score is :[0.63333333 0.68333333 0.58333333 0.65       0.68333333 0.6\n",
            " 0.6779661  0.76271186 0.71186441 0.69491525]\n",
            "When K =47 Score is :[0.63333333 0.68333333 0.58333333 0.66666667 0.65       0.61666667\n",
            " 0.69491525 0.76271186 0.69491525 0.6779661 ]\n",
            "When K =49 Score is :[0.65       0.66666667 0.58333333 0.66666667 0.68333333 0.63333333\n",
            " 0.69491525 0.74576271 0.69491525 0.6779661 ]\n"
          ],
          "name": "stdout"
        }
      ]
    },
    {
      "cell_type": "markdown",
      "metadata": {
        "id": "Rta6spu8vSO3"
      },
      "source": [
        "**Find the mean squared error and figure out which k is having the least MSE.**\n",
        "**The value which has the least MSE is best for analysis**"
      ]
    },
    {
      "cell_type": "code",
      "metadata": {
        "id": "X7Ux3_xtpVNd",
        "outputId": "301facbf-ca0d-4927-9321-c4a46a8c534a"
      },
      "source": [
        "MSE = [1 - x for x in cv_scores_list]\n",
        "print(\"LOSS MSE \")\n",
        "print(MSE)\n",
        "# finding best k\n",
        "best_k_value = k_list[MSE.index(min(MSE))]\n",
        "print(\"The best k = \"+ str(best_k_value))\n",
        "print(\"minnimum loss for best K = \"+ str(min(MSE)))"
      ],
      "execution_count": null,
      "outputs": [
        {
          "output_type": "stream",
          "text": [
            "LOSS MSE \n",
            "[0.27005649717514124, 0.27022598870056513, 0.2819209039548023, 0.2650282485875707, 0.26163841807909605, 0.278361581920904, 0.27163841807909606, 0.2766949152542374, 0.2900282485875707, 0.29005649717514126, 0.28663841807909607, 0.29672316384180797, 0.306864406779661, 0.3102542372881356, 0.3051694915254237, 0.3202824858757063, 0.31355932203389825, 0.30847457627118646, 0.3085310734463277, 0.3151977401129945, 0.32358757062146903, 0.3268926553672318, 0.33192090395480234, 0.3336158192090395, 0.33031073446327686]\n",
            "The best k = 9\n",
            "minnimum loss for best K = 0.26163841807909605\n"
          ],
          "name": "stdout"
        }
      ]
    },
    {
      "cell_type": "markdown",
      "metadata": {
        "id": "mbHMjPoipVNd"
      },
      "source": [
        "**Train Model and Test Model**"
      ]
    },
    {
      "cell_type": "markdown",
      "metadata": {
        "id": "ddq8ILMAvkzh"
      },
      "source": [
        "**Build a model with the best K value and predict the value of X_test**"
      ]
    },
    {
      "cell_type": "code",
      "metadata": {
        "id": "5NBx7XpcpVNd"
      },
      "source": [
        "classifier = KNeighborsClassifier(n_neighbors=best_k_value)\n",
        "\n",
        "# Fitting the model\n",
        "classifier.fit(X_train, y_train)\n",
        "\n",
        "# Predicting the Test set results\n",
        "y_pred = classifier.predict(X_test)"
      ],
      "execution_count": null,
      "outputs": []
    },
    {
      "cell_type": "code",
      "metadata": {
        "id": "SaO6JjbTpVNd",
        "outputId": "86ce24f4-d2e9-4fe2-f30c-b48c4072c2c0"
      },
      "source": [
        "confusion_matrix = confusion_matrix(y_test, y_pred)\n",
        "confusion_matrix"
      ],
      "execution_count": null,
      "outputs": [
        {
          "output_type": "execute_result",
          "data": {
            "text/plain": [
              "array([[148,  18],\n",
              "       [ 53,  76]], dtype=int64)"
            ]
          },
          "metadata": {
            "tags": []
          },
          "execution_count": 32
        }
      ]
    },
    {
      "cell_type": "markdown",
      "metadata": {
        "id": "xP6mfsVapVNd"
      },
      "source": [
        "**Accuracy**"
      ]
    },
    {
      "cell_type": "code",
      "metadata": {
        "id": "xl9eTwD6pVNd",
        "outputId": "68c43301-08b2-4d99-b81e-570dd3637c6c"
      },
      "source": [
        "accuracy = accuracy_score(y_test, y_pred)*100\n",
        "print('Accuracy  ' + str(round(accuracy, 2)) + ' %.')"
      ],
      "execution_count": null,
      "outputs": [
        {
          "output_type": "stream",
          "text": [
            "Accuracy  75.93 %.\n"
          ],
          "name": "stdout"
        }
      ]
    },
    {
      "cell_type": "markdown",
      "metadata": {
        "id": "24t2Q5wbvt6X"
      },
      "source": [
        "**We acheived a accuracy of 75.93%**"
      ]
    },
    {
      "cell_type": "code",
      "metadata": {
        "id": "UH4qQ248pVNd",
        "outputId": "b52a906c-eb86-4f70-97da-2f3849986c41"
      },
      "source": [
        "from sklearn.metrics import roc_curve\n",
        "from sklearn.metrics import auc\n",
        "import matplotlib.pyplot as plt\n",
        "fpr, tpr, threshold = roc_curve(y_test,y_pred)\n",
        "roc_auc = auc(fpr, tpr)\n",
        "\n",
        "plt.title('Receiver Operating Characteristic')\n",
        "plt.plot(fpr, tpr, 'b', label = 'AUC = %0.2f' % roc_auc)\n",
        "plt.legend(loc = 'lower right')\n",
        "plt.plot([0, 1], [0, 1],'r--')\n",
        "plt.xlim([0, 1])\n",
        "plt.ylim([0, 1])\n",
        "plt.ylabel('True Positive Rate')\n",
        "plt.xlabel('False Positive Rate')\n",
        "plt.title('ROC Curve of kNN')\n",
        "plt.show()"
      ],
      "execution_count": null,
      "outputs": [
        {
          "output_type": "display_data",
          "data": {
            "image/png": "[encoded data removed]",
            "text/plain": [
              "<Figure size 432x288 with 1 Axes>"
            ]
          },
          "metadata": {
            "tags": []
          }
        }
      ]
    },
    {
      "cell_type": "markdown",
      "metadata": {
        "id": "swqYmRNpwL0I"
      },
      "source": [
        "#**5)Summarize and interpret your results including at least four data visualizations. Provide an evaluation of your approach and discuss any limitations of the methods you used.**\n",
        "\n",
        "**A) The loss function is not used by KNN when we are training the dataset.**\n",
        "**This doesnt imply there is no loss function for knn**\n",
        "\n",
        "**Median minimizes the absolute difference loss. But we dont compute the mean absolute difference and we dont use optimizations for gradient descent to compute the median.**\n",
        "\n",
        "**Similarly we implement a loss function, but knn minimizes the loss function**\n",
        "\n",
        "**The problem with the outliers if the data set consists of more than 50% of outliers and if we drop all the values that will lead to huge loss of dataset and overfitting of model**"
      ]
    },
    {
      "cell_type": "markdown",
      "metadata": {
        "id": "Z0fW4_hoxHMQ"
      },
      "source": [
        "#**6)Write a project report to describe all tasks.**\n",
        "**Steps involved in my analysis:**\n",
        "\n",
        "\n",
        "**1) Data Extraction**\n",
        "\n",
        "**Exploratory Data Analysis**\n",
        "\n",
        "**2) Data Analysis**\n",
        "\n",
        "**3) Data Cleaning**\n",
        "\n",
        "**4) Data Analysis which includes visalizations**\n",
        "\n",
        "END OF EDA\n",
        "\n",
        "**5) Splitting the data to train and test**\n",
        "\n",
        "**6) Find the best k value of k using k fold cross validation technique**\n",
        "\n",
        "**7) Implement a knn model with the best K value and predict the out come of x_test**\n",
        "\n",
        "\n",
        "**8) Find the accuracy of the prediction**"
      ]
    },
    {
      "cell_type": "markdown",
      "metadata": {
        "id": "G0Um4rKoyAWB"
      },
      "source": [
        "#**I created the notebook like the document and I am submitting the document by exporting this as PDF**"
      ]
    }
  ]
}